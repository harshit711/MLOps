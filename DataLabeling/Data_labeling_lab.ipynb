{
 "cells": [
  {
   "cell_type": "code",
   "execution_count": 1,
   "id": "4ef02390",
   "metadata": {},
   "outputs": [],
   "source": [
    "%matplotlib inline\n",
    "import os\n",
    "\n",
    "os.environ[\"TF_CPP_MIN_LOG_LEVEL\"] = \"3\"\n",
    "os.environ[\"PYTHONHASHSEED\"] = \"0\""
   ]
  },
  {
   "cell_type": "code",
   "execution_count": 2,
   "id": "2448bbb7",
   "metadata": {},
   "outputs": [],
   "source": [
    "import pandas as pd\n",
    "\n",
    "DISPLAY_ALL_TEXT = False\n",
    "pd.set_option(\"display.max_colwidth\", 0 if DISPLAY_ALL_TEXT else 50)"
   ]
  },
  {
   "cell_type": "code",
   "execution_count": 3,
   "id": "3d2bccdb",
   "metadata": {},
   "outputs": [],
   "source": [
    "# !python3 -m spacy download en_core_web_sm"
   ]
  },
  {
   "cell_type": "code",
   "execution_count": 4,
   "id": "c2c42be5",
   "metadata": {},
   "outputs": [
    {
     "name": "stdout",
     "output_type": "stream",
     "text": [
      "Function running\n",
      "Reading data/Youtube01-Psy.csv ...\n",
      "Reading data/Youtube02-KatyPerry.csv ...\n",
      "Reading data/Youtube03-LMFAO.csv ...\n",
      "Reading data/Youtube04-Eminem.csv ...\n",
      "Reading data/Youtube05-Shakira.csv ...\n"
     ]
    }
   ],
   "source": [
    "from utils import load_spam_dataset\n",
    "\n",
    "df_train, df_test = load_spam_dataset()\n",
    "Y_test = df_test.label.values"
   ]
  },
  {
   "cell_type": "code",
   "execution_count": 5,
   "id": "6591c6d3",
   "metadata": {},
   "outputs": [],
   "source": [
    "ABSTAIN, HAM, SPAM = -1, 0, 1"
   ]
  },
  {
   "cell_type": "code",
   "execution_count": 6,
   "id": "49b37221",
   "metadata": {},
   "outputs": [],
   "source": [
    "from snorkel.labeling import labeling_function, LabelingFunction, PandasLFApplier"
   ]
  },
  {
   "cell_type": "code",
   "execution_count": 7,
   "id": "5f82584f",
   "metadata": {},
   "outputs": [],
   "source": [
    "import re\n",
    "\n",
    "URL_RE   = re.compile(r\"(https?://|www\\.)\", re.I)\n",
    "TIME_RE  = re.compile(r\"\\b\\d{1,2}:\\d{2}\\b\")\n",
    "EMAIL_RE = re.compile(r\"[A-Z0-9._%+-]+@[A-Z0-9.-]+\\.[A-Z]{2,}\", re.I)"
   ]
  },
  {
   "cell_type": "code",
   "execution_count": 8,
   "id": "46c60415",
   "metadata": {},
   "outputs": [],
   "source": [
    "PROMO_PHRASES = [\n",
    "    \"subscribe\", \"sub back\", \"follow me\", \"check my\", \"free giveaway\",\n",
    "    \"promo code\", \"buy now\", \"discount\", \"click my\", \"like and subscribe\"\n",
    "]\n",
    "SELF_PROMO = [\"my channel\", \"my video\", \"new video on\", \"check my channel\"]\n",
    "\n",
    "CASUAL_PRAISE = [\"nice\", \"cool\", \"great\", \"love\", \"cute\", \"amazing\", \"awesome\", \"fire\", \"lol\", \"lmao\", \"haha\"]\n",
    "\n",
    "CONTENT_QS = [\n",
    "    \"what song\", \"song name\", \"who is\", \"where was this\", \"which camera\", \"how did you make\"\n",
    "]"
   ]
  },
  {
   "cell_type": "code",
   "execution_count": 9,
   "id": "ae8516a9",
   "metadata": {},
   "outputs": [],
   "source": [
    "@labeling_function()\n",
    "def lf_has_url(x):\n",
    "    return SPAM if URL_RE.search(x.text) else ABSTAIN\n",
    "\n",
    "@labeling_function()\n",
    "def lf_has_email(x):\n",
    "    return SPAM if EMAIL_RE.search(x.text) else ABSTAIN\n",
    "\n",
    "@labeling_function()\n",
    "def lf_promo_verbs(x):\n",
    "    t = x.text.lower()\n",
    "    return SPAM if any(p in t for p in PROMO_PHRASES) else ABSTAIN\n",
    "\n",
    "@labeling_function()\n",
    "def lf_self_promo(x):\n",
    "    t = x.text.lower()\n",
    "    return SPAM if any(p in t for p in SELF_PROMO) else ABSTAIN\n",
    "\n",
    "@labeling_function()\n",
    "def lf_many_exclamations(x):\n",
    "    return SPAM if x.text.count(\"!\") >= 4 else ABSTAIN\n",
    "\n",
    "@labeling_function()\n",
    "def lf_repeated_tokens(x):\n",
    "    tokens = x.text.lower().split()\n",
    "    return SPAM if any(tokens.count(tok) >= 3 for tok in set(tokens) if len(tok) > 2) else ABSTAIN\n",
    "\n",
    "@labeling_function()\n",
    "def lf_many_mentions(x):\n",
    "    return SPAM if x.text.count(\"@\") >= 2 else ABSTAIN\n",
    "\n",
    "@labeling_function()\n",
    "def lf_too_many_hashtags(x):\n",
    "    return SPAM if x.text.count(\"#\") >= 3 else ABSTAIN\n",
    "\n",
    "@labeling_function()\n",
    "def lf_uppercase_shout(x):\n",
    "    letters = [c for c in x.text if c.isalpha()]\n",
    "    if not letters:\n",
    "        return ABSTAIN\n",
    "    up_ratio = sum(1 for c in letters if c.isupper()) / len(letters)\n",
    "    return SPAM if up_ratio >= 0.6 and len(letters) >= 8 else ABSTAIN\n",
    "\n",
    "@labeling_function()\n",
    "def lf_low_char_entropy(x):\n",
    "    s = x.text.lower()\n",
    "    if len(s) < 20:\n",
    "        return ABSTAIN\n",
    "    uniq = len(set(s))\n",
    "    return SPAM if (uniq / max(len(s),1)) < 0.1 else ABSTAIN"
   ]
  },
  {
   "cell_type": "code",
   "execution_count": 10,
   "id": "f84aff73",
   "metadata": {},
   "outputs": [],
   "source": [
    "@labeling_function()\n",
    "def lf_has_timestamp(x):\n",
    "    return HAM if TIME_RE.search(x.text) else ABSTAIN\n",
    "\n",
    "@labeling_function()\n",
    "def lf_short_casual_praise(x):\n",
    "    t = x.text.lower()\n",
    "    return HAM if (len(t.split()) <= 4 and any(w in t for w in CASUAL_PRAISE)) else ABSTAIN\n",
    "\n",
    "@labeling_function()\n",
    "def lf_question_about_content(x):\n",
    "    t = x.text.lower()\n",
    "    return HAM if any(q in t for q in CONTENT_QS) else ABSTAIN\n",
    "\n",
    "@labeling_function()\n",
    "def lf_balanced_punctuation(x):\n",
    "    s = x.text\n",
    "    return HAM if 5 <= len(s.split()) <= 40 and s.count(\"!\") <= 2 and s.count(\"?\") <= 2 else ABSTAIN\n",
    "\n",
    "@labeling_function()\n",
    "def lf_no_links_reasonable_len(x):\n",
    "    s = x.text\n",
    "    return HAM if (not URL_RE.search(s)) and (10 <= len(s) <= 240) else ABSTAIN"
   ]
  },
  {
   "cell_type": "code",
   "execution_count": 11,
   "id": "272ea9b6",
   "metadata": {},
   "outputs": [],
   "source": [
    "LF_LIST = [\n",
    "    lf_has_url, lf_has_email, lf_promo_verbs, lf_self_promo, lf_many_exclamations,\n",
    "    lf_repeated_tokens, lf_many_mentions, lf_too_many_hashtags, lf_uppercase_shout, lf_low_char_entropy,\n",
    "    lf_has_timestamp, lf_short_casual_praise, lf_question_about_content, lf_balanced_punctuation, lf_no_links_reasonable_len\n",
    "]"
   ]
  },
  {
   "cell_type": "code",
   "execution_count": 12,
   "id": "44cbae0d",
   "metadata": {},
   "outputs": [
    {
     "name": "stderr",
     "output_type": "stream",
     "text": [
      "100%|██████████| 1586/1586 [00:00<00:00, 24881.58it/s]\n",
      "100%|██████████| 250/250 [00:00<00:00, 25034.64it/s]\n"
     ]
    },
    {
     "data": {
      "text/plain": [
       "((1586, 15), (250, 15))"
      ]
     },
     "execution_count": 12,
     "metadata": {},
     "output_type": "execute_result"
    }
   ],
   "source": [
    "applier = PandasLFApplier(lfs=LF_LIST)\n",
    "L_train = applier.apply(df=df_train)\n",
    "L_test  = applier.apply(df=df_test)\n",
    "L_train.shape, L_test.shape\n"
   ]
  },
  {
   "cell_type": "code",
   "execution_count": 13,
   "id": "3c6aea4d",
   "metadata": {},
   "outputs": [
    {
     "data": {
      "text/html": [
       "<div>\n",
       "<style scoped>\n",
       "    .dataframe tbody tr th:only-of-type {\n",
       "        vertical-align: middle;\n",
       "    }\n",
       "\n",
       "    .dataframe tbody tr th {\n",
       "        vertical-align: top;\n",
       "    }\n",
       "\n",
       "    .dataframe thead th {\n",
       "        text-align: right;\n",
       "    }\n",
       "</style>\n",
       "<table border=\"1\" class=\"dataframe\">\n",
       "  <thead>\n",
       "    <tr style=\"text-align: right;\">\n",
       "      <th></th>\n",
       "      <th>j</th>\n",
       "      <th>Polarity</th>\n",
       "      <th>Coverage</th>\n",
       "      <th>Overlaps</th>\n",
       "      <th>Conflicts</th>\n",
       "    </tr>\n",
       "  </thead>\n",
       "  <tbody>\n",
       "    <tr>\n",
       "      <th>lf_has_url</th>\n",
       "      <td>0</td>\n",
       "      <td>[1]</td>\n",
       "      <td>0.122320</td>\n",
       "      <td>0.076923</td>\n",
       "      <td>0.066204</td>\n",
       "    </tr>\n",
       "    <tr>\n",
       "      <th>lf_has_email</th>\n",
       "      <td>1</td>\n",
       "      <td>[]</td>\n",
       "      <td>0.000000</td>\n",
       "      <td>0.000000</td>\n",
       "      <td>0.000000</td>\n",
       "    </tr>\n",
       "    <tr>\n",
       "      <th>lf_promo_verbs</th>\n",
       "      <td>2</td>\n",
       "      <td>[1]</td>\n",
       "      <td>0.146910</td>\n",
       "      <td>0.146280</td>\n",
       "      <td>0.121059</td>\n",
       "    </tr>\n",
       "    <tr>\n",
       "      <th>lf_self_promo</th>\n",
       "      <td>3</td>\n",
       "      <td>[1]</td>\n",
       "      <td>0.084489</td>\n",
       "      <td>0.083859</td>\n",
       "      <td>0.068726</td>\n",
       "    </tr>\n",
       "    <tr>\n",
       "      <th>lf_many_exclamations</th>\n",
       "      <td>4</td>\n",
       "      <td>[1]</td>\n",
       "      <td>0.053594</td>\n",
       "      <td>0.053594</td>\n",
       "      <td>0.035939</td>\n",
       "    </tr>\n",
       "    <tr>\n",
       "      <th>lf_repeated_tokens</th>\n",
       "      <td>5</td>\n",
       "      <td>[1]</td>\n",
       "      <td>0.098361</td>\n",
       "      <td>0.094578</td>\n",
       "      <td>0.042875</td>\n",
       "    </tr>\n",
       "    <tr>\n",
       "      <th>lf_many_mentions</th>\n",
       "      <td>6</td>\n",
       "      <td>[]</td>\n",
       "      <td>0.000000</td>\n",
       "      <td>0.000000</td>\n",
       "      <td>0.000000</td>\n",
       "    </tr>\n",
       "    <tr>\n",
       "      <th>lf_too_many_hashtags</th>\n",
       "      <td>7</td>\n",
       "      <td>[1]</td>\n",
       "      <td>0.010719</td>\n",
       "      <td>0.010088</td>\n",
       "      <td>0.003153</td>\n",
       "    </tr>\n",
       "    <tr>\n",
       "      <th>lf_uppercase_shout</th>\n",
       "      <td>8</td>\n",
       "      <td>[1]</td>\n",
       "      <td>0.057377</td>\n",
       "      <td>0.057377</td>\n",
       "      <td>0.053594</td>\n",
       "    </tr>\n",
       "    <tr>\n",
       "      <th>lf_low_char_entropy</th>\n",
       "      <td>9</td>\n",
       "      <td>[1]</td>\n",
       "      <td>0.062421</td>\n",
       "      <td>0.058008</td>\n",
       "      <td>0.008827</td>\n",
       "    </tr>\n",
       "    <tr>\n",
       "      <th>lf_has_timestamp</th>\n",
       "      <td>10</td>\n",
       "      <td>[0]</td>\n",
       "      <td>0.006936</td>\n",
       "      <td>0.006936</td>\n",
       "      <td>0.003153</td>\n",
       "    </tr>\n",
       "    <tr>\n",
       "      <th>lf_short_casual_praise</th>\n",
       "      <td>11</td>\n",
       "      <td>[0]</td>\n",
       "      <td>0.045397</td>\n",
       "      <td>0.032156</td>\n",
       "      <td>0.008197</td>\n",
       "    </tr>\n",
       "    <tr>\n",
       "      <th>lf_question_about_content</th>\n",
       "      <td>12</td>\n",
       "      <td>[0]</td>\n",
       "      <td>0.003783</td>\n",
       "      <td>0.003783</td>\n",
       "      <td>0.001261</td>\n",
       "    </tr>\n",
       "    <tr>\n",
       "      <th>lf_balanced_punctuation</th>\n",
       "      <td>13</td>\n",
       "      <td>[0]</td>\n",
       "      <td>0.634931</td>\n",
       "      <td>0.634931</td>\n",
       "      <td>0.205549</td>\n",
       "    </tr>\n",
       "    <tr>\n",
       "      <th>lf_no_links_reasonable_len</th>\n",
       "      <td>14</td>\n",
       "      <td>[0]</td>\n",
       "      <td>0.779950</td>\n",
       "      <td>0.679067</td>\n",
       "      <td>0.225095</td>\n",
       "    </tr>\n",
       "  </tbody>\n",
       "</table>\n",
       "</div>"
      ],
      "text/plain": [
       "                             j Polarity  Coverage  Overlaps  Conflicts\n",
       "lf_has_url                   0      [1]  0.122320  0.076923   0.066204\n",
       "lf_has_email                 1       []  0.000000  0.000000   0.000000\n",
       "lf_promo_verbs               2      [1]  0.146910  0.146280   0.121059\n",
       "lf_self_promo                3      [1]  0.084489  0.083859   0.068726\n",
       "lf_many_exclamations         4      [1]  0.053594  0.053594   0.035939\n",
       "lf_repeated_tokens           5      [1]  0.098361  0.094578   0.042875\n",
       "lf_many_mentions             6       []  0.000000  0.000000   0.000000\n",
       "lf_too_many_hashtags         7      [1]  0.010719  0.010088   0.003153\n",
       "lf_uppercase_shout           8      [1]  0.057377  0.057377   0.053594\n",
       "lf_low_char_entropy          9      [1]  0.062421  0.058008   0.008827\n",
       "lf_has_timestamp            10      [0]  0.006936  0.006936   0.003153\n",
       "lf_short_casual_praise      11      [0]  0.045397  0.032156   0.008197\n",
       "lf_question_about_content   12      [0]  0.003783  0.003783   0.001261\n",
       "lf_balanced_punctuation     13      [0]  0.634931  0.634931   0.205549\n",
       "lf_no_links_reasonable_len  14      [0]  0.779950  0.679067   0.225095"
      ]
     },
     "execution_count": 13,
     "metadata": {},
     "output_type": "execute_result"
    }
   ],
   "source": [
    "from snorkel.labeling import LFAnalysis\n",
    "lf_summary = LFAnalysis(L=L_train, lfs=LF_LIST).lf_summary()\n",
    "lf_summary"
   ]
  },
  {
   "cell_type": "code",
   "execution_count": 14,
   "id": "824d1a91",
   "metadata": {},
   "outputs": [
    {
     "name": "stderr",
     "output_type": "stream",
     "text": [
      "100%|██████████| 400/400 [00:00<00:00, 6145.05epoch/s]\n"
     ]
    }
   ],
   "source": [
    "from snorkel.labeling.model import MajorityLabelVoter, LabelModel\n",
    "\n",
    "mv = MajorityLabelVoter(cardinality=2)\n",
    "mv_train_preds = mv.predict(L=L_train)\n",
    "\n",
    "label_model = LabelModel(cardinality=2, verbose=False)\n",
    "label_model.fit(L_train=L_train, n_epochs=400, log_freq=100, seed=42)\n"
   ]
  },
  {
   "cell_type": "code",
   "execution_count": 15,
   "id": "51b4b84d",
   "metadata": {},
   "outputs": [
    {
     "name": "stdout",
     "output_type": "stream",
     "text": [
      "Majority Vote Acc: 0.712\n",
      "Label Model   Acc: 0.636\n"
     ]
    }
   ],
   "source": [
    "mv_acc  = mv.score(L=L_test,  Y=Y_test, tie_break_policy=\"random\")[\"accuracy\"]\n",
    "lm_acc  = label_model.score(L=L_test, Y=Y_test, tie_break_policy=\"random\")[\"accuracy\"]\n",
    "print(f\"Majority Vote Acc: {mv_acc:.3f}\")\n",
    "print(f\"Label Model   Acc: {lm_acc:.3f}\")"
   ]
  },
  {
   "cell_type": "code",
   "execution_count": null,
   "id": "cf7f7a40",
   "metadata": {},
   "outputs": [
    {
     "name": "stdout",
     "output_type": "stream",
     "text": [
      "Filtered train size: (1555, 5)\n"
     ]
    }
   ],
   "source": [
    "from snorkel.labeling import filter_unlabeled_dataframe\n",
    "from snorkel.utils import probs_to_preds\n",
    "probs_train = label_model.predict_proba(L=L_train)\n",
    "\n",
    "df_train_filtered, probs_train_filtered = filter_unlabeled_dataframe(\n",
    "    X=df_train, y=probs_train, L=L_train\n",
    ")\n",
    "print(\"Filtered train size:\", df_train_filtered.shape)\n",
    "\n",
    "hard_labels = probs_to_preds(probs=probs_train_filtered)"
   ]
  },
  {
   "cell_type": "code",
   "execution_count": 17,
   "id": "510af83f",
   "metadata": {},
   "outputs": [],
   "source": [
    "from sklearn.feature_extraction.text import TfidfVectorizer\n",
    "from sklearn.svm import LinearSVC\n",
    "from sklearn.linear_model import LogisticRegression\n",
    "from sklearn.metrics import classification_report, confusion_matrix"
   ]
  },
  {
   "cell_type": "code",
   "execution_count": 18,
   "id": "b39f603c",
   "metadata": {},
   "outputs": [],
   "source": [
    "tfidf = TfidfVectorizer(ngram_range=(1,3), min_df=2, max_df=0.95)\n",
    "X_train = tfidf.fit_transform(df_train_filtered[\"text\"].tolist())\n",
    "X_test  = tfidf.transform(df_test[\"text\"].tolist())"
   ]
  },
  {
   "cell_type": "code",
   "execution_count": 23,
   "id": "189cbdf9",
   "metadata": {},
   "outputs": [
    {
     "name": "stdout",
     "output_type": "stream",
     "text": [
      "Test Accuracy: 64.4%\n"
     ]
    }
   ],
   "source": [
    "svm = LinearSVC(class_weight=\"balanced\", random_state=42)\n",
    "svm.fit(X_train, hard_labels)\n",
    "print(f\"Test Accuracy: {svm.score(X=X_test, y=Y_test) * 100:.1f}%\")"
   ]
  },
  {
   "cell_type": "code",
   "execution_count": 24,
   "id": "479df8c7",
   "metadata": {},
   "outputs": [
    {
     "name": "stdout",
     "output_type": "stream",
     "text": [
      "Test Accuracy: 67.6%\n"
     ]
    }
   ],
   "source": [
    "logit = LogisticRegression(C=3.0, max_iter=200, n_jobs=None, solver=\"liblinear\", class_weight=\"balanced\", random_state=42)\n",
    "logit.fit(X_train, hard_labels)\n",
    "print(f\"Test Accuracy: {logit.score(X=X_test, y=Y_test) * 100:.1f}%\")"
   ]
  },
  {
   "cell_type": "code",
   "execution_count": null,
   "id": "cca863e0",
   "metadata": {},
   "outputs": [
    {
     "name": "stdout",
     "output_type": "stream",
     "text": [
      "\n",
      "Model: LinearSVC\n",
      "              precision    recall  f1-score   support\n",
      "\n",
      "      HAM(0)       0.63      0.78      0.70       132\n",
      "     SPAM(1)       0.67      0.49      0.57       118\n",
      "\n",
      "    accuracy                           0.64       250\n",
      "   macro avg       0.65      0.64      0.63       250\n",
      "weighted avg       0.65      0.64      0.64       250\n",
      "\n",
      "Confusion matrix:\n",
      " [[103  29]\n",
      " [ 60  58]]\n",
      "\n",
      "Model: LogisticRegression\n",
      "              precision    recall  f1-score   support\n",
      "\n",
      "      HAM(0)       0.65      0.83      0.73       132\n",
      "     SPAM(1)       0.72      0.51      0.60       118\n",
      "\n",
      "    accuracy                           0.68       250\n",
      "   macro avg       0.69      0.67      0.66       250\n",
      "weighted avg       0.69      0.68      0.67       250\n",
      "\n",
      "Confusion matrix:\n",
      " [[109  23]\n",
      " [ 58  60]]\n"
     ]
    }
   ],
   "source": [
    "def evaluate(name, model, X, y_true):\n",
    "    y_pred = model.predict(X)\n",
    "    print(f\"\\nModel: {name}\")\n",
    "    print(classification_report(y_true, y_pred, target_names=[\"HAM(0)\",\"SPAM(1)\"]))\n",
    "    print(\"Confusion matrix:\\n\", confusion_matrix(y_true, y_pred))\n",
    "    return y_pred\n",
    "\n",
    "y_pred_svm   = evaluate(\"LinearSVC\", svm,  X_test, Y_test)\n",
    "y_pred_logit = evaluate(\"LogisticRegression\", logit, X_test, Y_test)"
   ]
  },
  {
   "cell_type": "code",
   "execution_count": null,
   "id": "0f48a864",
   "metadata": {},
   "outputs": [],
   "source": []
  }
 ],
 "metadata": {
  "kernelspec": {
   "display_name": "Python 3",
   "language": "python",
   "name": "python3"
  },
  "language_info": {
   "codemirror_mode": {
    "name": "ipython",
    "version": 3
   },
   "file_extension": ".py",
   "mimetype": "text/x-python",
   "name": "python",
   "nbconvert_exporter": "python",
   "pygments_lexer": "ipython3",
   "version": "3.13.5"
  }
 },
 "nbformat": 4,
 "nbformat_minor": 5
}
